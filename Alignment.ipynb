{
 "cells": [
  {
   "cell_type": "code",
   "execution_count": 4,
   "metadata": {
    "ExecuteTime": {
     "end_time": "2020-07-13T06:41:42.911815Z",
     "start_time": "2020-07-13T06:41:42.191692Z"
    }
   },
   "outputs": [],
   "source": [
    "from aligment import align_image_dnn\n",
    "from keras.models import load_model\n",
    "model = load_model(\"aligment_model.h5\", compile=False)"
   ]
  },
  {
   "cell_type": "code",
   "execution_count": 5,
   "metadata": {
    "ExecuteTime": {
     "end_time": "2020-07-13T06:43:04.713819Z",
     "start_time": "2020-07-13T06:43:02.062833Z"
    }
   },
   "outputs": [
    {
     "name": "stdout",
     "output_type": "stream",
     "text": [
      "WARNING:tensorflow:From c:\\program files\\python37\\lib\\site-packages\\keras\\backend\\tensorflow_backend.py:422: The name tf.global_variables is deprecated. Please use tf.compat.v1.global_variables instead.\n",
      "\n",
      "align with box algorith\n"
     ]
    }
   ],
   "source": [
    "import cv2\n",
    "img = cv2.imread(\"1.png\", 1)\n",
    "final_result = align_image_dnn(img, model)"
   ]
  }
 ],
 "metadata": {
  "kernelspec": {
   "display_name": "Python 3",
   "language": "python",
   "name": "python3"
  },
  "language_info": {
   "codemirror_mode": {
    "name": "ipython",
    "version": 3
   },
   "file_extension": ".py",
   "mimetype": "text/x-python",
   "name": "python",
   "nbconvert_exporter": "python",
   "pygments_lexer": "ipython3",
   "version": "3.7.6"
  }
 },
 "nbformat": 4,
 "nbformat_minor": 4
}
